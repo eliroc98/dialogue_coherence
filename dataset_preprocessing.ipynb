{
 "cells": [
  {
   "cell_type": "code",
   "execution_count": 94,
   "metadata": {},
   "outputs": [],
   "source": [
    "import pandas as pd\n",
    "from tqdm import tqdm\n",
    "import re"
   ]
  },
  {
   "cell_type": "code",
   "execution_count": 1,
   "metadata": {},
   "outputs": [
    {
     "name": "stderr",
     "output_type": "stream",
     "text": [
      "/Users/lizzy/Desktop/Universita/tesi/git/dialogue_coherence/venv/lib/python3.9/site-packages/tqdm/auto.py:22: TqdmWarning: IProgress not found. Please update jupyter and ipywidgets. See https://ipywidgets.readthedocs.io/en/stable/user_install.html\n",
      "  from .autonotebook import tqdm as notebook_tqdm\n",
      "Some weights of the model checkpoint at bert-base-uncased were not used when initializing BertModel: ['cls.predictions.transform.dense.bias', 'cls.predictions.transform.dense.weight', 'cls.predictions.transform.LayerNorm.bias', 'cls.seq_relationship.bias', 'cls.predictions.transform.LayerNorm.weight', 'cls.predictions.bias', 'cls.seq_relationship.weight', 'cls.predictions.decoder.weight']\n",
      "- This IS expected if you are initializing BertModel from the checkpoint of a model trained on another task or with another architecture (e.g. initializing a BertForSequenceClassification model from a BertForPreTraining model).\n",
      "- This IS NOT expected if you are initializing BertModel from the checkpoint of a model that you expect to be exactly identical (initializing a BertForSequenceClassification model from a BertForSequenceClassification model).\n"
     ]
    }
   ],
   "source": [
    "import transformers as ppb\n",
    "model_class, tokenizer_class, pretrained_weights = (ppb.BertModel, ppb.BertTokenizer, 'bert-base-uncased')\n",
    "tokenizer = tokenizer_class.from_pretrained(pretrained_weights)\n",
    "model = model_class.from_pretrained(pretrained_weights)\n"
   ]
  },
  {
   "cell_type": "code",
   "execution_count": 101,
   "metadata": {},
   "outputs": [
    {
     "name": "stderr",
     "output_type": "stream",
     "text": [
      "100%|██████████| 13118/13118 [00:22<00:00, 583.86it/s]\n"
     ]
    }
   ],
   "source": [
    "lst_dict = []\n",
    "with open('/Users/lizzy/Desktop/Universita/tesi/git/dialogue_coherence/data/EMNLP_dataset/dialogues_text.txt', 'r') as f:\n",
    "    lines = f.readlines()\n",
    "    for l in tqdm(lines):\n",
    "        tokenized = tokenizer.encode(l.replace(\"__eou__\", \"[SEP]\"))[:-1]\n",
    "        if len(tokenized) < 513:\n",
    "            lst_dict.append({'tokens': tokenizer.convert_ids_to_tokens(tokenized), \n",
    "                             'words': [\"[CLS]\"] + l.replace(\"__eou__\", \"[SEP]\").replace(\"'\", \" ' \").split(), \n",
    "                             'text': l.replace(\"__eou__\", \"\").replace(\"\\n\", \"\")})"
   ]
  },
  {
   "cell_type": "code",
   "execution_count": 106,
   "metadata": {},
   "outputs": [
    {
     "data": {
      "text/plain": [
       "13086"
      ]
     },
     "execution_count": 106,
     "metadata": {},
     "output_type": "execute_result"
    }
   ],
   "source": [
    "len(lst_dict)"
   ]
  },
  {
   "cell_type": "code",
   "execution_count": 113,
   "metadata": {},
   "outputs": [],
   "source": [
    "import json\n",
    "str_to_save = json.dumps(lst_dict[:50])"
   ]
  },
  {
   "cell_type": "code",
   "execution_count": 114,
   "metadata": {},
   "outputs": [],
   "source": [
    "with open('/Users/lizzy/Desktop/Universita/tesi/git/dialogue_coherence/preprocessed.json', 'w') as f:\n",
    "       f.write(str_to_save)"
   ]
  },
  {
   "cell_type": "code",
   "execution_count": 115,
   "metadata": {},
   "outputs": [
    {
     "data": {
      "text/plain": [
       "['Creating examples...',\n",
       " 'WARNING:tensorflow:From /Users/lizzy/Desktop/Universita/tesi/git/dialogue_coherence/venv/lib/python3.9/site-packages/tensorflow/python/compat/v2_compat.py:107: disable_resource_variables (from tensorflow.python.ops.variable_scope) is deprecated and will be removed in a future version.',\n",
       " 'Instructions for updating:',\n",
       " 'non-resource variables are not supported in the long term',\n",
       " 'Building BERT model...',\n",
       " '/Users/lizzy/Desktop/Universita/tesi/git/dialogue_coherence/bert/modeling.py:692: UserWarning: `tf.layers.dense` is deprecated and will be removed in a future version. Please use `tf.keras.layers.Dense` instead.',\n",
       " '  query_layer = tfv1.layers.dense(',\n",
       " '/Users/lizzy/Desktop/Universita/tesi/git/dialogue_coherence/venv/lib/python3.9/site-packages/keras/legacy_tf_layers/core.py:261: UserWarning: `layer.apply` is deprecated and will be removed in a future version. Please use `layer.__call__` method instead.',\n",
       " '  return layer.apply(inputs)',\n",
       " '/Users/lizzy/Desktop/Universita/tesi/git/dialogue_coherence/bert/modeling.py:701: UserWarning: `tf.layers.dense` is deprecated and will be removed in a future version. Please use `tf.keras.layers.Dense` instead.',\n",
       " '  key_layer = tfv1.layers.dense(',\n",
       " '/Users/lizzy/Desktop/Universita/tesi/git/dialogue_coherence/bert/modeling.py:710: UserWarning: `tf.layers.dense` is deprecated and will be removed in a future version. Please use `tf.keras.layers.Dense` instead.',\n",
       " '  value_layer = tfv1.layers.dense(',\n",
       " '/Users/lizzy/Desktop/Universita/tesi/git/dialogue_coherence/bert/modeling.py:894: UserWarning: `tf.layers.dense` is deprecated and will be removed in a future version. Please use `tf.keras.layers.Dense` instead.',\n",
       " '  attention_output = tfv1.layers.dense(',\n",
       " '/Users/lizzy/Desktop/Universita/tesi/git/dialogue_coherence/bert/modeling.py:905: UserWarning: `tf.layers.dense` is deprecated and will be removed in a future version. Please use `tf.keras.layers.Dense` instead.',\n",
       " '  intermediate_output = tfv1.layers.dense(',\n",
       " '/Users/lizzy/Desktop/Universita/tesi/git/dialogue_coherence/bert/modeling.py:915: UserWarning: `tf.layers.dense` is deprecated and will be removed in a future version. Please use `tf.keras.layers.Dense` instead.',\n",
       " '  layer_output = tfv1.layers.dense(',\n",
       " '/Users/lizzy/Desktop/Universita/tesi/git/dialogue_coherence/bert/modeling.py:239: UserWarning: `tf.layers.dense` is deprecated and will be removed in a future version. Please use `tf.keras.layers.Dense` instead.',\n",
       " '  self.pooled_output = tfv1.layers.dense(',\n",
       " 'Loading BERT from checkpoint...',\n",
       " 'Extracting attention maps...',\n",
       " 'Metal device set to: Apple M1',\n",
       " '',\n",
       " 'systemMemory: 16.00 GB',\n",
       " 'maxCacheSize: 5.33 GB',\n",
       " '',\n",
       " '2022-05-20 10:24:27.990807: I tensorflow/core/common_runtime/pluggable_device/pluggable_device_factory.cc:305] Could not identify NUMA node of platform GPU ID 0, defaulting to 0. Your kernel may not have been built with NUMA support.',\n",
       " '2022-05-20 10:24:27.990934: I tensorflow/core/common_runtime/pluggable_device/pluggable_device_factory.cc:271] Created TensorFlow device (/job:localhost/replica:0/task:0/device:GPU:0 with 0 MB memory) -> physical PluggableDevice (device: 0, name: METAL, pci bus id: <undefined>)',\n",
       " '2022-05-20 10:24:28.036502: W tensorflow/core/platform/profile_utils/cpu_utils.cc:128] Failed to get CPU frequency: 0 Hz',\n",
       " '2022-05-20 10:24:28.037113: I tensorflow/core/grappler/optimizers/custom_graph_optimizer_registry.cc:113] Plugin optimizer for device_type GPU is enabled.',\n",
       " '1/3 = 33.3%, ELAPSED: 0.0s, ETA: 0.0s',\n",
       " '2022-05-20 10:24:28.363077: I tensorflow/core/grappler/optimizers/custom_graph_optimizer_registry.cc:113] Plugin optimizer for device_type GPU is enabled.',\n",
       " '2/3 = 66.7%, ELAPSED: 1.3s, ETA: 0.7s',\n",
       " '3/3 = 100.0%, ELAPSED: 2.3s, ETA: 0.0s',\n",
       " 'Writing attention maps to /Users/lizzy/Desktop/Universita/tesi/git/dialogue_coherence/preprocessed_attn.pkl...',\n",
       " 'Done!']"
      ]
     },
     "execution_count": 115,
     "metadata": {},
     "output_type": "execute_result"
    }
   ],
   "source": [
    "!!  python /Users/lizzy/Desktop/Universita/tesi/git/dialogue_coherence/extract_attention.py --preprocessed-data-file /Users/lizzy/Desktop/Universita/tesi/git/dialogue_coherence/preprocessed.json --bert-dir /Users/lizzy/Desktop/Universita/tesi/git/dialogue_coherence/bert/bert-base-uncased"
   ]
  },
  {
   "cell_type": "code",
   "execution_count": 60,
   "metadata": {},
   "outputs": [
    {
     "name": "stdout",
     "output_type": "stream",
     "text": [
      "^C\n"
     ]
    },
    {
     "data": {
      "text/plain": [
       "[]"
      ]
     },
     "execution_count": 60,
     "metadata": {},
     "output_type": "execute_result"
    }
   ],
   "source": [
    "!! python head_distances.py --attn-data-file /Users/lizzy/Desktop/Universita/tesi/git/dialogue_coherence/preprocessed_attn.pkl --outfile /Users/lizzy/Desktop/Universita/tesi/git/dialogue_coherence/head_distances.pkl"
   ]
  },
  {
   "cell_type": "code",
   "execution_count": null,
   "metadata": {},
   "outputs": [],
   "source": []
  }
 ],
 "metadata": {
  "interpreter": {
   "hash": "c4296dd8706fac5325e6d01948524d9b7ee219aac805fc0ef4b567dd0caece99"
  },
  "kernelspec": {
   "display_name": "Python 3.9.10 ('base': conda)",
   "language": "python",
   "name": "python3"
  },
  "language_info": {
   "codemirror_mode": {
    "name": "ipython",
    "version": 3
   },
   "file_extension": ".py",
   "mimetype": "text/x-python",
   "name": "python",
   "nbconvert_exporter": "python",
   "pygments_lexer": "ipython3",
   "version": "3.9.10"
  },
  "orig_nbformat": 4
 },
 "nbformat": 4,
 "nbformat_minor": 2
}
