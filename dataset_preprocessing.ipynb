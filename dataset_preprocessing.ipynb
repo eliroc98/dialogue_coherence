{
 "cells": [
  {
   "cell_type": "code",
   "execution_count": 3,
   "metadata": {},
   "outputs": [],
   "source": [
    "import pandas as pd"
   ]
  },
  {
   "cell_type": "code",
   "execution_count": 4,
   "metadata": {},
   "outputs": [],
   "source": [
    "lst = []\n",
    "with open('/Users/lizzy/Desktop/Universita/tesi/git/dialogue_coherence/data/EMNLP_dataset/dialogues_text.txt', 'r') as f:\n",
    "    lines = f.readlines()\n",
    "    for l in lines:\n",
    "        t = \"[CLS] \"\n",
    "        for i, utt in enumerate(l.split(\"__eou__\")):\n",
    "            t = t + utt.strip().lower()\n",
    "            if i != len(l.split(\"__eou__\"))-1:\n",
    "                t = t + \" [SEP] \"\n",
    "        lst.append(t.strip())\n",
    "\n",
    "df = pd.DataFrame(data = {'tokens' : lst})"
   ]
  },
  {
   "cell_type": "code",
   "execution_count": 1,
   "metadata": {},
   "outputs": [
    {
     "name": "stderr",
     "output_type": "stream",
     "text": [
      "/Users/lizzy/Desktop/Universita/tesi/git/dialogue_coherence/venv/lib/python3.9/site-packages/tqdm/auto.py:22: TqdmWarning: IProgress not found. Please update jupyter and ipywidgets. See https://ipywidgets.readthedocs.io/en/stable/user_install.html\n",
      "  from .autonotebook import tqdm as notebook_tqdm\n",
      "Some weights of the model checkpoint at bert-base-uncased were not used when initializing BertModel: ['cls.predictions.transform.dense.bias', 'cls.predictions.transform.dense.weight', 'cls.predictions.transform.LayerNorm.bias', 'cls.seq_relationship.bias', 'cls.predictions.transform.LayerNorm.weight', 'cls.predictions.bias', 'cls.seq_relationship.weight', 'cls.predictions.decoder.weight']\n",
      "- This IS expected if you are initializing BertModel from the checkpoint of a model trained on another task or with another architecture (e.g. initializing a BertForSequenceClassification model from a BertForPreTraining model).\n",
      "- This IS NOT expected if you are initializing BertModel from the checkpoint of a model that you expect to be exactly identical (initializing a BertForSequenceClassification model from a BertForSequenceClassification model).\n"
     ]
    }
   ],
   "source": [
    "import transformers as ppb\n",
    "model_class, tokenizer_class, pretrained_weights = (ppb.BertModel, ppb.BertTokenizer, 'bert-base-uncased')\n",
    "tokenizer = tokenizer_class.from_pretrained(pretrained_weights)\n",
    "model = model_class.from_pretrained(pretrained_weights)\n"
   ]
  },
  {
   "cell_type": "code",
   "execution_count": 5,
   "metadata": {},
   "outputs": [
    {
     "data": {
      "text/plain": [
       "13118"
      ]
     },
     "execution_count": 5,
     "metadata": {},
     "output_type": "execute_result"
    }
   ],
   "source": [
    "len(df['tokens'])"
   ]
  },
  {
   "cell_type": "code",
   "execution_count": 6,
   "metadata": {},
   "outputs": [
    {
     "data": {
      "text/plain": [
       "5373"
      ]
     },
     "execution_count": 6,
     "metadata": {},
     "output_type": "execute_result"
    }
   ],
   "source": [
    "sum([1 for x in df['tokens'] if len(x) > 512])"
   ]
  },
  {
   "cell_type": "code",
   "execution_count": 7,
   "metadata": {},
   "outputs": [],
   "source": [
    "tokenized = [tokenizer.encode(x, add_special_tokens = False) for x in df['tokens'] if len(x) < 513]\n",
    "#df['tokens'].apply((lambda x: if tokenizer.encode(x, add_special_tokens = False)))"
   ]
  },
  {
   "cell_type": "code",
   "execution_count": 8,
   "metadata": {},
   "outputs": [],
   "source": [
    "df_tokenized = pd.DataFrame(data = {'tokens' : tokenized})"
   ]
  },
  {
   "cell_type": "code",
   "execution_count": 9,
   "metadata": {},
   "outputs": [],
   "source": [
    "series_tokenized = df_tokenized['tokens'].apply(lambda x: tokenizer.convert_ids_to_tokens(x))"
   ]
  },
  {
   "cell_type": "code",
   "execution_count": 10,
   "metadata": {},
   "outputs": [],
   "source": [
    "lst_tkn = [{'tokens':x} for x in series_tokenized]"
   ]
  },
  {
   "cell_type": "code",
   "execution_count": 11,
   "metadata": {},
   "outputs": [
    {
     "name": "stdout",
     "output_type": "stream",
     "text": [
      "{'tokens': ['[CLS]', 'the', 'kitchen', 'stink', '##s', '.', '[SEP]', 'i', \"'\", 'll', 'throw', 'out', 'the', 'garbage', '.', '[SEP]']}\n"
     ]
    }
   ],
   "source": [
    "print(lst_tkn[0])"
   ]
  },
  {
   "cell_type": "code",
   "execution_count": 37,
   "metadata": {},
   "outputs": [
    {
     "name": "stdout",
     "output_type": "stream",
     "text": [
      "[{\"tokens\": [\"[CLS]\", \"the\", \"kitchen\", \"stink\", \"##s\", \".\", \"[SEP]\", \"i\", \"'\", \"ll\", \"throw\", \"out\", \"the\", \"garbage\", \".\", \"[SEP]\"]}, {\"tokens\": [\"[CLS]\", \"so\", \"dick\", \",\", \"how\", \"about\", \"getting\", \"some\", \"coffee\", \"for\", \"tonight\", \"?\", \"[SEP]\", \"coffee\", \"?\", \"i\", \"don\", \"\\u2019\", \"t\", \"honestly\", \"like\", \"that\", \"kind\", \"of\", \"stuff\", \".\", \"[SEP]\", \"come\", \"on\", \",\", \"you\", \"can\", \"at\", \"least\", \"try\", \"a\", \"little\", \",\", \"besides\", \"your\", \"cigarette\", \".\", \"[SEP]\", \"what\", \"\\u2019\", \"s\", \"wrong\", \"with\", \"that\", \"?\", \"cigarette\", \"is\", \"the\", \"thing\", \"i\", \"go\", \"crazy\", \"for\", \".\", \"[SEP]\", \"not\", \"for\", \"me\", \",\", \"dick\", \".\", \"[SEP]\"]}, {\"tokens\": [\"[CLS]\", \"would\", \"you\", \"mind\", \"waiting\", \"a\", \"while\", \"?\", \"[SEP]\", \"well\", \",\", \"how\", \"long\", \"will\", \"it\", \"be\", \"?\", \"[SEP]\", \"i\", \"'\", \"m\", \"not\", \"sure\", \".\", \"but\", \"i\", \"'\", \"ll\", \"get\", \"a\", \"table\", \"ready\", \"as\", \"fast\", \"as\", \"i\", \"can\", \".\", \"[SEP]\", \"ok\", \".\", \"we\", \"'\", \"ll\", \"wait\", \".\", \"[SEP]\"]}]\n"
     ]
    }
   ],
   "source": [
    "import json\n",
    "str_to_save = json.dumps(lst_tkn[:3])\n",
    "print(str_to_save)"
   ]
  },
  {
   "cell_type": "code",
   "execution_count": 38,
   "metadata": {},
   "outputs": [],
   "source": [
    "with open('/Users/lizzy/Desktop/Universita/tesi/git/dialogue_coherence/preprocessed.json', 'w') as f:\n",
    "       f.write(str_to_save)"
   ]
  },
  {
   "cell_type": "code",
   "execution_count": 51,
   "metadata": {},
   "outputs": [
    {
     "data": {
      "text/plain": [
       "['Creating examples...',\n",
       " 'WARNING:tensorflow:From /Users/lizzy/Desktop/Universita/tesi/git/dialogue_coherence/venv/lib/python3.9/site-packages/tensorflow/python/compat/v2_compat.py:107: disable_resource_variables (from tensorflow.python.ops.variable_scope) is deprecated and will be removed in a future version.',\n",
       " 'Instructions for updating:',\n",
       " 'non-resource variables are not supported in the long term',\n",
       " 'Building BERT model...',\n",
       " '/Users/lizzy/Desktop/Universita/tesi/git/dialogue_coherence/bert/modeling.py:692: UserWarning: `tf.layers.dense` is deprecated and will be removed in a future version. Please use `tf.keras.layers.Dense` instead.',\n",
       " '  query_layer = tfv1.layers.dense(',\n",
       " '/Users/lizzy/Desktop/Universita/tesi/git/dialogue_coherence/venv/lib/python3.9/site-packages/keras/legacy_tf_layers/core.py:261: UserWarning: `layer.apply` is deprecated and will be removed in a future version. Please use `layer.__call__` method instead.',\n",
       " '  return layer.apply(inputs)',\n",
       " '/Users/lizzy/Desktop/Universita/tesi/git/dialogue_coherence/bert/modeling.py:701: UserWarning: `tf.layers.dense` is deprecated and will be removed in a future version. Please use `tf.keras.layers.Dense` instead.',\n",
       " '  key_layer = tfv1.layers.dense(',\n",
       " '/Users/lizzy/Desktop/Universita/tesi/git/dialogue_coherence/bert/modeling.py:710: UserWarning: `tf.layers.dense` is deprecated and will be removed in a future version. Please use `tf.keras.layers.Dense` instead.',\n",
       " '  value_layer = tfv1.layers.dense(',\n",
       " '/Users/lizzy/Desktop/Universita/tesi/git/dialogue_coherence/bert/modeling.py:894: UserWarning: `tf.layers.dense` is deprecated and will be removed in a future version. Please use `tf.keras.layers.Dense` instead.',\n",
       " '  attention_output = tfv1.layers.dense(',\n",
       " '/Users/lizzy/Desktop/Universita/tesi/git/dialogue_coherence/bert/modeling.py:905: UserWarning: `tf.layers.dense` is deprecated and will be removed in a future version. Please use `tf.keras.layers.Dense` instead.',\n",
       " '  intermediate_output = tfv1.layers.dense(',\n",
       " '/Users/lizzy/Desktop/Universita/tesi/git/dialogue_coherence/bert/modeling.py:915: UserWarning: `tf.layers.dense` is deprecated and will be removed in a future version. Please use `tf.keras.layers.Dense` instead.',\n",
       " '  layer_output = tfv1.layers.dense(',\n",
       " '/Users/lizzy/Desktop/Universita/tesi/git/dialogue_coherence/bert/modeling.py:239: UserWarning: `tf.layers.dense` is deprecated and will be removed in a future version. Please use `tf.keras.layers.Dense` instead.',\n",
       " '  self.pooled_output = tfv1.layers.dense(',\n",
       " 'Loading BERT from checkpoint...',\n",
       " 'Extracting attention maps...',\n",
       " 'Metal device set to: Apple M1',\n",
       " '',\n",
       " 'systemMemory: 16.00 GB',\n",
       " 'maxCacheSize: 5.33 GB',\n",
       " '',\n",
       " '2022-05-19 14:43:10.386530: I tensorflow/core/common_runtime/pluggable_device/pluggable_device_factory.cc:305] Could not identify NUMA node of platform GPU ID 0, defaulting to 0. Your kernel may not have been built with NUMA support.',\n",
       " '2022-05-19 14:43:10.386637: I tensorflow/core/common_runtime/pluggable_device/pluggable_device_factory.cc:271] Created TensorFlow device (/job:localhost/replica:0/task:0/device:GPU:0 with 0 MB memory) -> physical PluggableDevice (device: 0, name: METAL, pci bus id: <undefined>)',\n",
       " '2022-05-19 14:43:10.432504: W tensorflow/core/platform/profile_utils/cpu_utils.cc:128] Failed to get CPU frequency: 0 Hz',\n",
       " '2022-05-19 14:43:10.433097: I tensorflow/core/grappler/optimizers/custom_graph_optimizer_registry.cc:113] Plugin optimizer for device_type GPU is enabled.',\n",
       " '1/1 = 100.0%, ELAPSED: 0.0s, ETA: 0.0s',\n",
       " '2022-05-19 14:43:10.772961: I tensorflow/core/grappler/optimizers/custom_graph_optimizer_registry.cc:113] Plugin optimizer for device_type GPU is enabled.',\n",
       " 'Writing attention maps to /Users/lizzy/Desktop/Universita/tesi/git/dialogue_coherence/preprocessed_attn.pkl...',\n",
       " \" type O: <class 'list'>\",\n",
       " \" type F: <class '_io.BufferedWriter'>\",\n",
       " 'Done!']"
      ]
     },
     "execution_count": 51,
     "metadata": {},
     "output_type": "execute_result"
    }
   ],
   "source": [
    "!!  python /Users/lizzy/Desktop/Universita/tesi/git/dialogue_coherence/extract_attention.py --preprocessed-data-file /Users/lizzy/Desktop/Universita/tesi/git/dialogue_coherence/preprocessed.json --bert-dir /Users/lizzy/Desktop/Universita/tesi/git/dialogue_coherence/bert/bert-base-uncased"
   ]
  },
  {
   "cell_type": "code",
   "execution_count": null,
   "metadata": {},
   "outputs": [],
   "source": []
  }
 ],
 "metadata": {
  "interpreter": {
   "hash": "c4296dd8706fac5325e6d01948524d9b7ee219aac805fc0ef4b567dd0caece99"
  },
  "kernelspec": {
   "display_name": "Python 3.9.10 ('base': conda)",
   "language": "python",
   "name": "python3"
  },
  "language_info": {
   "codemirror_mode": {
    "name": "ipython",
    "version": 3
   },
   "file_extension": ".py",
   "mimetype": "text/x-python",
   "name": "python",
   "nbconvert_exporter": "python",
   "pygments_lexer": "ipython3",
   "version": "3.9.10"
  },
  "orig_nbformat": 4
 },
 "nbformat": 4,
 "nbformat_minor": 2
}
