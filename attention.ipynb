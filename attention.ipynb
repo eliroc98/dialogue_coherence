{
 "cells": [
  {
   "cell_type": "code",
   "execution_count": 1,
   "metadata": {},
   "outputs": [],
   "source": [
    "import numpy as np\n",
    "import json\n",
    "import tensorflow as tf\n",
    "import torch\n",
    "from tqdm import tqdm\n",
    "import pickle"
   ]
  },
  {
   "cell_type": "markdown",
   "metadata": {},
   "source": [
    "# Attention analysis"
   ]
  },
  {
   "cell_type": "markdown",
   "metadata": {},
   "source": [
    "## Extracting attention from different models"
   ]
  },
  {
   "cell_type": "markdown",
   "metadata": {},
   "source": [
    "### Loading the models"
   ]
  },
  {
   "cell_type": "code",
   "execution_count": 2,
   "metadata": {},
   "outputs": [],
   "source": [
    "from transformers import AutoTokenizer, AutoModel, AutoModelForSequenceClassification, GPT2LMHeadModel, GPT2Tokenizer"
   ]
  },
  {
   "cell_type": "code",
   "execution_count": 3,
   "metadata": {},
   "outputs": [
    {
     "name": "stderr",
     "output_type": "stream",
     "text": [
      "Some weights of the model checkpoint at DeepPavlov/bert-base-cased-conversational were not used when initializing BertModel: ['cls.seq_relationship.weight', 'cls.predictions.bias', 'cls.predictions.decoder.bias', 'cls.predictions.transform.LayerNorm.bias', 'cls.seq_relationship.bias', 'cls.predictions.transform.LayerNorm.weight', 'cls.predictions.decoder.weight', 'cls.predictions.transform.dense.weight', 'cls.predictions.transform.dense.bias']\n",
      "- This IS expected if you are initializing BertModel from the checkpoint of a model trained on another task or with another architecture (e.g. initializing a BertForSequenceClassification model from a BertForPreTraining model).\n",
      "- This IS NOT expected if you are initializing BertModel from the checkpoint of a model that you expect to be exactly identical (initializing a BertForSequenceClassification model from a BertForSequenceClassification model).\n"
     ]
    }
   ],
   "source": [
    "model_name = \"DeepPavlov/bert-base-cased-conversational\"\n",
    "bert_conversational_tokenizer = AutoTokenizer.from_pretrained(model_name)\n",
    "bert_conversational_model = AutoModel.from_pretrained(model_name, output_attentions=True)"
   ]
  },
  {
   "cell_type": "code",
   "execution_count": 4,
   "metadata": {},
   "outputs": [
    {
     "name": "stderr",
     "output_type": "stream",
     "text": [
      "Some weights of the model checkpoint at microsoft/DialoGPT-medium were not used when initializing GPT2Model: ['lm_head.weight']\n",
      "- This IS expected if you are initializing GPT2Model from the checkpoint of a model trained on another task or with another architecture (e.g. initializing a BertForSequenceClassification model from a BertForPreTraining model).\n",
      "- This IS NOT expected if you are initializing GPT2Model from the checkpoint of a model that you expect to be exactly identical (initializing a BertForSequenceClassification model from a BertForSequenceClassification model).\n"
     ]
    }
   ],
   "source": [
    "model_name = \"microsoft/DialoGPT-medium\"  \n",
    "dialogpt_model = AutoModel.from_pretrained(model_name, output_attentions = True)  \n",
    "dialogpt_tokenizer = AutoTokenizer.from_pretrained(model_name)"
   ]
  },
  {
   "cell_type": "code",
   "execution_count": 5,
   "metadata": {},
   "outputs": [],
   "source": [
    "model_name = \"Elron/bleurt-base-128\"\n",
    "bleurt_model = AutoModelForSequenceClassification.from_pretrained(model_name, output_attentions=True)\n",
    "bleurt_tokenizer = AutoTokenizer.from_pretrained(model_name)"
   ]
  },
  {
   "cell_type": "code",
   "execution_count": 6,
   "metadata": {},
   "outputs": [],
   "source": [
    "model_name = \"./bert/gpt2-pretrained-on-dailydialog\"\n",
    "gpt2_model = GPT2LMHeadModel.from_pretrained(model_name)\n",
    "#gpt2_tokenizer = GPT2Tokenizer.from_pretrained(model_name)\n",
    "gpt2_tokenizer = AutoTokenizer.from_pretrained(\"microsoft/DialoGPT-small\")"
   ]
  },
  {
   "cell_type": "markdown",
   "metadata": {},
   "source": [
    "### Preparing inputs for the models"
   ]
  },
  {
   "cell_type": "code",
   "execution_count": 7,
   "metadata": {},
   "outputs": [
    {
     "name": "stderr",
     "output_type": "stream",
     "text": [
      "  0%|          | 0/13118 [00:00<?, ?it/s]Token indices sequence length is longer than the specified maximum sequence length for this model (155 > 128). Running this sequence through the model will result in indexing errors\n",
      "100%|██████████| 13118/13118 [00:09<00:00, 1348.92it/s]\n"
     ]
    }
   ],
   "source": [
    "lst_dict = []\n",
    "with open('./data/EMNLP_dataset/dialogues_text.txt', 'r') as f:\n",
    "    lines = f.readlines()\n",
    "    for l in tqdm(lines):\n",
    "        bleurt_tokenized = bleurt_tokenizer.encode(l.replace(\"__eou__\", \"[SEP]\"))[:-1]\n",
    "        bert_conversational_tokenized = bert_conversational_tokenizer.encode(l.replace(\"__eou__\", \"[SEP]\"))[:-1]\n",
    "        if len(bleurt_tokenized) < 513 and len(bert_conversational_tokenized) < 513:\n",
    "            lst_dict.append({'bert': \"[CLS] \" + l.replace(\"__eou__\", \"[SEP]\").replace(\"'\", \" ' \").replace(\"\\n\", \"\"), \n",
    "                             'gpt2': l.replace(\"__eou__\", dialogpt_tokenizer.eos_token).replace(\"\\n\", \"\")})"
   ]
  },
  {
   "cell_type": "code",
   "execution_count": 8,
   "metadata": {},
   "outputs": [
    {
     "data": {
      "text/plain": [
       "{'bert': \"[CLS] The kitchen stinks . [SEP] I ' ll throw out the garbage . [SEP]\",\n",
       " 'gpt2': \"The kitchen stinks . <|endoftext|> I'll throw out the garbage . <|endoftext|>\"}"
      ]
     },
     "execution_count": 8,
     "metadata": {},
     "output_type": "execute_result"
    }
   ],
   "source": [
    "lst_dict[0]"
   ]
  },
  {
   "cell_type": "markdown",
   "metadata": {},
   "source": [
    "### Extracting attentions"
   ]
  },
  {
   "cell_type": "code",
   "execution_count": 46,
   "metadata": {},
   "outputs": [],
   "source": [
    "def from_torch_tensor2_numpy(tensor):\n",
    "    arr = np.empty((len(tensor), tensor[0].size()[1], tensor[0].size()[-1], tensor[0].size()[-1]))\n",
    "    for i, item in enumerate(tensor):\n",
    "        arr[i] = item[0].cpu().detach().numpy()\n",
    "        \n",
    "    return arr"
   ]
  },
  {
   "cell_type": "code",
   "execution_count": 47,
   "metadata": {},
   "outputs": [
    {
     "name": "stderr",
     "output_type": "stream",
     "text": [
      "100%|██████████| 3/3 [00:08<00:00,  2.99s/it]\n"
     ]
    }
   ],
   "source": [
    "attention_dicts = {}\n",
    "keys = [('bert_conversational', bert_conversational_tokenizer, 'bert', bert_conversational_model), \n",
    "        ('dialogpt', dialogpt_tokenizer, 'gpt2', dialogpt_model), \n",
    "        ('bleurt', bleurt_tokenizer, 'bert', bleurt_model)]\n",
    "        #('gpt2', gpt2_tokenizer, 'gpt2', gpt2_model)]\n",
    "\n",
    "attention_dicts = {\n",
    "    k[0]: [] for k in keys\n",
    "}\n",
    "\n",
    "for k, tokenizer, model_type, model in tqdm(keys):\n",
    "    for item in lst_dict[:20]:\n",
    "        inputs = tokenizer.encode(item[model_type], \n",
    "                                return_tensors = 'pt', \n",
    "                                add_special_tokens = False)\n",
    "        outputs = model(inputs)\n",
    "        attention_dicts[k].append({'attns' : from_torch_tensor2_numpy(outputs[-1]),\n",
    "                                'tokens' : tokenizer.convert_ids_to_tokens(inputs[0])})\n",
    "\n"
   ]
  },
  {
   "cell_type": "markdown",
   "metadata": {},
   "source": [
    "## Attention analysis"
   ]
  },
  {
   "cell_type": "code",
   "execution_count": 48,
   "metadata": {},
   "outputs": [],
   "source": [
    "def data_iterator(data):\n",
    "  for i, doc in enumerate(data):\n",
    "    if i % 100 == 0 or i == len(data) - 1:\n",
    "      print(\"{:.1f}% done\".format(100.0 * (i + 1) / len(data)))\n",
    "    yield doc[\"tokens\"], np.array(doc[\"attns\"])"
   ]
  },
  {
   "cell_type": "code",
   "execution_count": 49,
   "metadata": {},
   "outputs": [],
   "source": [
    "for k in attention_dicts:\n",
    "    output = open(f'./data/data_attention{k}.pkl', 'wb')\n",
    "    pickle.dump(attention_dicts[k], output)\n",
    "    output.close()"
   ]
  },
  {
   "cell_type": "code",
   "execution_count": 51,
   "metadata": {},
   "outputs": [
    {
     "data": {
      "text/plain": [
       "(12, 12, 16, 16)"
      ]
     },
     "execution_count": 51,
     "metadata": {},
     "output_type": "execute_result"
    }
   ],
   "source": [
    "np.shape(attention_dicts['bert_conversational'][0]['attns'])"
   ]
  },
  {
   "cell_type": "code",
   "execution_count": 53,
   "metadata": {},
   "outputs": [
    {
     "name": "stdout",
     "output_type": "stream",
     "text": [
      "huggingface/tokenizers: The current process just got forked, after parallelism has already been used. Disabling parallelism to avoid deadlocks...\n",
      "To disable this warning, you can either:\n",
      "\t- Avoid using `tokenizers` before the fork if possible\n",
      "\t- Explicitly set the environment variable TOKENIZERS_PARALLELISM=(true | false)\n"
     ]
    },
    {
     "data": {
      "text/plain": [
       "['Loading attention data',\n",
       " 'WARNING:tensorflow:From /Users/lizzy/Desktop/Universita/tesi/git/dialogue_coherence/venv/lib/python3.9/site-packages/tensorflow/python/compat/v2_compat.py:107: disable_resource_variables (from tensorflow.python.ops.variable_scope) is deprecated and will be removed in a future version.',\n",
       " 'Instructions for updating:',\n",
       " 'non-resource variables are not supported in the long term',\n",
       " 'Computing head distances',\n",
       " '1/20 = 5.0%, ELAPSED: 0.0s, ETA: 0.0s',\n",
       " '2/20 = 10.0%, ELAPSED: 0.1s, ETA: 1.1s',\n",
       " '3/20 = 15.0%, ELAPSED: 2.6s, ETA: 14.9s',\n",
       " '4/20 = 20.0%, ELAPSED: 14.2s, ETA: 56.9s',\n",
       " '5/20 = 25.0%, ELAPSED: 15.4s, ETA: 46.2s',\n",
       " '6/20 = 30.0%, ELAPSED: 16.4s, ETA: 38.3s',\n",
       " '7/20 = 35.0%, ELAPSED: 36.2s, ETA: 67.3s',\n",
       " '8/20 = 40.0%, ELAPSED: 39.2s, ETA: 58.8s',\n",
       " '9/20 = 45.0%, ELAPSED: 55.0s, ETA: 67.2s',\n",
       " '10/20 = 50.0%, ELAPSED: 55.1s, ETA: 55.1s',\n",
       " '11/20 = 55.0%, ELAPSED: 56.6s, ETA: 46.3s',\n",
       " '12/20 = 60.0%, ELAPSED: 57.2s, ETA: 38.1s',\n",
       " '13/20 = 65.0%, ELAPSED: 61.0s, ETA: 32.9s',\n",
       " '14/20 = 70.0%, ELAPSED: 61.6s, ETA: 26.4s',\n",
       " '15/20 = 75.0%, ELAPSED: 65.5s, ETA: 21.8s',\n",
       " '16/20 = 80.0%, ELAPSED: 65.6s, ETA: 16.4s',\n",
       " '17/20 = 85.0%, ELAPSED: 70.0s, ETA: 12.4s',\n",
       " '18/20 = 90.0%, ELAPSED: 79.7s, ETA: 8.9s',\n",
       " '19/20 = 95.0%, ELAPSED: 80.8s, ETA: 4.3s',\n",
       " '20/20 = 100.0%, ELAPSED: 81.8s, ETA: 0.0s']"
      ]
     },
     "execution_count": 53,
     "metadata": {},
     "output_type": "execute_result"
    }
   ],
   "source": [
    "!! python ./clark/head_distances.py --attn-data-file ./data/data_attentionbert_conversational.pkl --outfile ./data/head_distances_attentionbert_conversational.pkl --n-layers 12 --n-heads 12 "
   ]
  },
  {
   "cell_type": "code",
   "execution_count": 54,
   "metadata": {},
   "outputs": [
    {
     "data": {
      "text/plain": [
       "(24, 16, 16, 16)"
      ]
     },
     "execution_count": 54,
     "metadata": {},
     "output_type": "execute_result"
    }
   ],
   "source": [
    "np.shape(attention_dicts['dialogpt'][0]['attns'])"
   ]
  },
  {
   "cell_type": "code",
   "execution_count": 60,
   "metadata": {},
   "outputs": [
    {
     "name": "stdout",
     "output_type": "stream",
     "text": [
      "huggingface/tokenizers: The current process just got forked, after parallelism has already been used. Disabling parallelism to avoid deadlocks...\n",
      "To disable this warning, you can either:\n",
      "\t- Avoid using `tokenizers` before the fork if possible\n",
      "\t- Explicitly set the environment variable TOKENIZERS_PARALLELISM=(true | false)\n",
      "^C\n"
     ]
    },
    {
     "data": {
      "text/plain": [
       "[]"
      ]
     },
     "execution_count": 60,
     "metadata": {},
     "output_type": "execute_result"
    }
   ],
   "source": [
    "!! python ./clark/head_distances.py --attn-data-file ./data/data_attentiondialogpt.pkl --outfile ./data/head_distances_attentiondialogpt.pkl --n-layers 24 --n-heads 16 "
   ]
  },
  {
   "cell_type": "code",
   "execution_count": 61,
   "metadata": {},
   "outputs": [
    {
     "data": {
      "text/plain": [
       "(12, 12, 16, 16)"
      ]
     },
     "execution_count": 61,
     "metadata": {},
     "output_type": "execute_result"
    }
   ],
   "source": [
    "np.shape(attention_dicts['bleurt'][0]['attns'])"
   ]
  },
  {
   "cell_type": "code",
   "execution_count": 62,
   "metadata": {},
   "outputs": [
    {
     "name": "stdout",
     "output_type": "stream",
     "text": [
      "huggingface/tokenizers: The current process just got forked, after parallelism has already been used. Disabling parallelism to avoid deadlocks...\n",
      "To disable this warning, you can either:\n",
      "\t- Avoid using `tokenizers` before the fork if possible\n",
      "\t- Explicitly set the environment variable TOKENIZERS_PARALLELISM=(true | false)\n"
     ]
    },
    {
     "data": {
      "text/plain": [
       "['Loading attention data',\n",
       " 'WARNING:tensorflow:From /Users/lizzy/Desktop/Universita/tesi/git/dialogue_coherence/venv/lib/python3.9/site-packages/tensorflow/python/compat/v2_compat.py:107: disable_resource_variables (from tensorflow.python.ops.variable_scope) is deprecated and will be removed in a future version.',\n",
       " 'Instructions for updating:',\n",
       " 'non-resource variables are not supported in the long term',\n",
       " 'Computing head distances',\n",
       " '1/20 = 5.0%, ELAPSED: 0.0s, ETA: 0.0s',\n",
       " '2/20 = 10.0%, ELAPSED: 0.1s, ETA: 1.0s',\n",
       " '3/20 = 15.0%, ELAPSED: 2.5s, ETA: 13.9s',\n",
       " '4/20 = 20.0%, ELAPSED: 14.3s, ETA: 57.0s',\n",
       " '5/20 = 25.0%, ELAPSED: 15.5s, ETA: 46.4s',\n",
       " '6/20 = 30.0%, ELAPSED: 16.5s, ETA: 38.6s',\n",
       " '7/20 = 35.0%, ELAPSED: 36.3s, ETA: 67.4s',\n",
       " '8/20 = 40.0%, ELAPSED: 39.1s, ETA: 58.6s',\n",
       " '9/20 = 45.0%, ELAPSED: 54.1s, ETA: 66.1s',\n",
       " '10/20 = 50.0%, ELAPSED: 54.2s, ETA: 54.2s',\n",
       " '11/20 = 55.0%, ELAPSED: 55.6s, ETA: 45.5s',\n",
       " '12/20 = 60.0%, ELAPSED: 56.1s, ETA: 37.4s',\n",
       " '13/20 = 65.0%, ELAPSED: 58.7s, ETA: 31.6s',\n",
       " '14/20 = 70.0%, ELAPSED: 59.2s, ETA: 25.4s',\n",
       " '15/20 = 75.0%, ELAPSED: 63.0s, ETA: 21.0s',\n",
       " '16/20 = 80.0%, ELAPSED: 63.1s, ETA: 15.8s',\n",
       " '17/20 = 85.0%, ELAPSED: 67.5s, ETA: 11.9s',\n",
       " '18/20 = 90.0%, ELAPSED: 76.8s, ETA: 8.5s',\n",
       " '19/20 = 95.0%, ELAPSED: 77.7s, ETA: 4.1s',\n",
       " '20/20 = 100.0%, ELAPSED: 78.6s, ETA: 0.0s']"
      ]
     },
     "execution_count": 62,
     "metadata": {},
     "output_type": "execute_result"
    }
   ],
   "source": [
    "!! python ./clark/head_distances.py --attn-data-file ./data/data_attentionbleurt.pkl --outfile ./data/head_distances_attentionbleurt.pkl --n-layers 12 --n-heads 12 "
   ]
  },
  {
   "cell_type": "code",
   "execution_count": 63,
   "metadata": {},
   "outputs": [],
   "source": [
    "def load_pickle(fname):\n",
    "    with open(fname, \"rb\") as f:\n",
    "        return pickle.load(f)"
   ]
  },
  {
   "cell_type": "markdown",
   "metadata": {},
   "source": [
    "### Computing Average Attention to Particular Tokens/Positions (Sections 3.1 and 3.2 of the Paper)"
   ]
  },
  {
   "cell_type": "code",
   "execution_count": 74,
   "metadata": {},
   "outputs": [
    {
     "name": "stdout",
     "output_type": "stream",
     "text": [
      "Computing token stats\n",
      "5.0% done\n",
      "100.0% done\n",
      "Computing token stats\n",
      "5.0% done\n",
      "100.0% done\n"
     ]
    }
   ],
   "source": [
    "avg_attns = {\n",
    "    k: np.zeros((12, 12)) for k in [\n",
    "      \"self\", \"right\", \"left\", \"sep\", \"sep_sep\", \"rest_sep\",\n",
    "      \"cls\", \"punct\"]\n",
    "}\n",
    "\n",
    "avg_attention_dicts = {\n",
    "    k[0]: avg_attns.copy() for k in keys if k[0] != \"dialogpt\"\n",
    "}\n",
    "\n",
    "for k in avg_attention_dicts:\n",
    "    js_divergences = load_pickle(f\"./data/head_distances_attention{k}.pkl\")\n",
    "    data = attention_dicts[k]\n",
    "    n_docs = len(attention_dicts[k])\n",
    "    \n",
    "    print(\"Computing token stats\")\n",
    "    for tokens, attns in data_iterator(data):\n",
    "      n_tokens = tf.shape(attns)[-1]\n",
    "\n",
    "      # create masks indicating where particular tokens are\n",
    "      seps, clss, puncts = (np.zeros(n_tokens) for _ in range(3))\n",
    "      for position, token in enumerate(tokens):\n",
    "        if token == \"[SEP]\":\n",
    "          seps[position] = 1\n",
    "        if token == \"[CLS]\":\n",
    "          clss[position] = 1\n",
    "        if token == \".\" or token == \",\":\n",
    "          puncts[position] = 1\n",
    "\n",
    "      # create masks indicating which positions are relevant for each key\n",
    "      # maschera: matrice [n_tokens, n_tokens]\n",
    "      sep_seps = np.ones((n_tokens, n_tokens))\n",
    "      #newaxis: adds dimension\n",
    "      #indica le posizioni della matrice che indicano l'attenzione verso i token [SEP]\n",
    "      #con l'outer product, che viene segnato con x = x * x[np.newaxis]\n",
    "      sep_seps *= seps[np.newaxis]\n",
    "      #indica le posizioni della matrice che indicano l'attenzione verso i token [SEP] dai token [SEP]\n",
    "      sep_seps *= seps[:, np.newaxis]\n",
    "\n",
    "      rest_seps = np.ones((n_tokens, n_tokens))\n",
    "      #same as outer (x, x)\n",
    "      rest_seps *= (np.ones(n_tokens) - seps)[:, np.newaxis]\n",
    "      rest_seps *= seps[np.newaxis]\n",
    "\n",
    "      selectors = {\n",
    "        # Return a 2-D array with ones on the diagonal and zeros elsewhere.\n",
    "          \"self\": np.eye(n_tokens, n_tokens),\n",
    "          \"right\": np.eye(n_tokens, n_tokens, 1),\n",
    "          \"left\": np.eye(n_tokens, n_tokens, -1),\n",
    "          \"sep\": np.tile(seps[np.newaxis], [n_tokens, 1]),\n",
    "          \"sep_sep\": sep_seps,\n",
    "          \"rest_sep\": rest_seps,\n",
    "          \"cls\": np.tile(clss[np.newaxis], [n_tokens, 1]),\n",
    "          \"punct\": np.tile(puncts[np.newaxis], [n_tokens, 1]),\n",
    "      }\n",
    "\n",
    "      # get the average attention for each token type\n",
    "      for key, selector in selectors.items():\n",
    "        if key == \"sep_sep\":\n",
    "          denom = 2\n",
    "        elif key == \"rest_sep\":\n",
    "          denom = n_tokens - 2\n",
    "        else:\n",
    "          denom = n_tokens\n",
    "        avg_attention_dicts[k][key] += (\n",
    "          # somma sull'ultima dimensione\n",
    "            (attns * selector[np.newaxis, np.newaxis]).sum(-1).sum(-1) /\n",
    "            (n_docs * denom))"
   ]
  },
  {
   "cell_type": "code",
   "execution_count": 95,
   "metadata": {},
   "outputs": [],
   "source": [
    "data = attention_dicts['bert_conversational'][0]\n",
    "tokens, attns = data['tokens'], data['attns']\n",
    "n_tokens = len(tokens)"
   ]
  },
  {
   "cell_type": "code",
   "execution_count": 101,
   "metadata": {},
   "outputs": [],
   "source": [
    "seps, clss, puncts = (np.zeros(n_tokens) for _ in range(3))\n",
    "for position, token in enumerate(tokens):\n",
    "    if token == \"[SEP]\":\n",
    "        seps[position] = 1\n",
    "    if token == \"[CLS]\":\n",
    "        clss[position] = 1\n",
    "    if token == \".\" or token == \",\":\n",
    "        puncts[position] = 1"
   ]
  },
  {
   "cell_type": "code",
   "execution_count": 120,
   "metadata": {},
   "outputs": [
    {
     "name": "stdout",
     "output_type": "stream",
     "text": [
      "(16, 16)\n"
     ]
    }
   ],
   "source": [
    "# create masks indicating which positions are relevant for each key\n",
    "sep_seps = np.ones((n_tokens, n_tokens))\n",
    "print(np.shape(sep_seps))"
   ]
  },
  {
   "cell_type": "code",
   "execution_count": 121,
   "metadata": {},
   "outputs": [
    {
     "name": "stdout",
     "output_type": "stream",
     "text": [
      "(16, 16)\n",
      "(16,)\n",
      "(1, 16)\n"
     ]
    }
   ],
   "source": [
    "sep_seps *= seps[np.newaxis]\n",
    "print(np.shape(sep_seps))\n",
    "print(np.shape(seps))\n",
    "print(np.shape(seps[np.newaxis]))"
   ]
  },
  {
   "cell_type": "code",
   "execution_count": 122,
   "metadata": {},
   "outputs": [
    {
     "data": {
      "text/plain": [
       "array([[0., 0., 0., 0., 0., 0., 1., 0., 0., 0., 0., 0., 0., 0., 0., 1.],\n",
       "       [0., 0., 0., 0., 0., 0., 1., 0., 0., 0., 0., 0., 0., 0., 0., 1.],\n",
       "       [0., 0., 0., 0., 0., 0., 1., 0., 0., 0., 0., 0., 0., 0., 0., 1.],\n",
       "       [0., 0., 0., 0., 0., 0., 1., 0., 0., 0., 0., 0., 0., 0., 0., 1.],\n",
       "       [0., 0., 0., 0., 0., 0., 1., 0., 0., 0., 0., 0., 0., 0., 0., 1.],\n",
       "       [0., 0., 0., 0., 0., 0., 1., 0., 0., 0., 0., 0., 0., 0., 0., 1.],\n",
       "       [0., 0., 0., 0., 0., 0., 1., 0., 0., 0., 0., 0., 0., 0., 0., 1.],\n",
       "       [0., 0., 0., 0., 0., 0., 1., 0., 0., 0., 0., 0., 0., 0., 0., 1.],\n",
       "       [0., 0., 0., 0., 0., 0., 1., 0., 0., 0., 0., 0., 0., 0., 0., 1.],\n",
       "       [0., 0., 0., 0., 0., 0., 1., 0., 0., 0., 0., 0., 0., 0., 0., 1.],\n",
       "       [0., 0., 0., 0., 0., 0., 1., 0., 0., 0., 0., 0., 0., 0., 0., 1.],\n",
       "       [0., 0., 0., 0., 0., 0., 1., 0., 0., 0., 0., 0., 0., 0., 0., 1.],\n",
       "       [0., 0., 0., 0., 0., 0., 1., 0., 0., 0., 0., 0., 0., 0., 0., 1.],\n",
       "       [0., 0., 0., 0., 0., 0., 1., 0., 0., 0., 0., 0., 0., 0., 0., 1.],\n",
       "       [0., 0., 0., 0., 0., 0., 1., 0., 0., 0., 0., 0., 0., 0., 0., 1.],\n",
       "       [0., 0., 0., 0., 0., 0., 1., 0., 0., 0., 0., 0., 0., 0., 0., 1.]])"
      ]
     },
     "execution_count": 122,
     "metadata": {},
     "output_type": "execute_result"
    }
   ],
   "source": [
    "sep_seps"
   ]
  },
  {
   "cell_type": "code",
   "execution_count": 118,
   "metadata": {},
   "outputs": [
    {
     "name": "stdout",
     "output_type": "stream",
     "text": [
      "(16, 16)\n",
      "(16,)\n",
      "(16, 1)\n"
     ]
    }
   ],
   "source": [
    "sep_seps *= seps[:, np.newaxis]\n",
    "print(np.shape(sep_seps))\n",
    "print(np.shape(seps))\n",
    "print(np.shape(seps[:, np.newaxis]))"
   ]
  },
  {
   "cell_type": "code",
   "execution_count": 119,
   "metadata": {},
   "outputs": [
    {
     "data": {
      "text/plain": [
       "array([[0., 0., 0., 0., 0., 0., 0., 0., 0., 0., 0., 0., 0., 0., 0., 0.],\n",
       "       [0., 0., 0., 0., 0., 0., 0., 0., 0., 0., 0., 0., 0., 0., 0., 0.],\n",
       "       [0., 0., 0., 0., 0., 0., 0., 0., 0., 0., 0., 0., 0., 0., 0., 0.],\n",
       "       [0., 0., 0., 0., 0., 0., 0., 0., 0., 0., 0., 0., 0., 0., 0., 0.],\n",
       "       [0., 0., 0., 0., 0., 0., 0., 0., 0., 0., 0., 0., 0., 0., 0., 0.],\n",
       "       [0., 0., 0., 0., 0., 0., 0., 0., 0., 0., 0., 0., 0., 0., 0., 0.],\n",
       "       [0., 0., 0., 0., 0., 0., 1., 0., 0., 0., 0., 0., 0., 0., 0., 1.],\n",
       "       [0., 0., 0., 0., 0., 0., 0., 0., 0., 0., 0., 0., 0., 0., 0., 0.],\n",
       "       [0., 0., 0., 0., 0., 0., 0., 0., 0., 0., 0., 0., 0., 0., 0., 0.],\n",
       "       [0., 0., 0., 0., 0., 0., 0., 0., 0., 0., 0., 0., 0., 0., 0., 0.],\n",
       "       [0., 0., 0., 0., 0., 0., 0., 0., 0., 0., 0., 0., 0., 0., 0., 0.],\n",
       "       [0., 0., 0., 0., 0., 0., 0., 0., 0., 0., 0., 0., 0., 0., 0., 0.],\n",
       "       [0., 0., 0., 0., 0., 0., 0., 0., 0., 0., 0., 0., 0., 0., 0., 0.],\n",
       "       [0., 0., 0., 0., 0., 0., 0., 0., 0., 0., 0., 0., 0., 0., 0., 0.],\n",
       "       [0., 0., 0., 0., 0., 0., 0., 0., 0., 0., 0., 0., 0., 0., 0., 0.],\n",
       "       [0., 0., 0., 0., 0., 0., 1., 0., 0., 0., 0., 0., 0., 0., 0., 1.]])"
      ]
     },
     "execution_count": 119,
     "metadata": {},
     "output_type": "execute_result"
    }
   ],
   "source": [
    "sep_seps"
   ]
  },
  {
   "cell_type": "markdown",
   "metadata": {},
   "source": [
    "### Computing Attention Head Entropies (Section 3.3)"
   ]
  },
  {
   "cell_type": "code",
   "execution_count": 79,
   "metadata": {},
   "outputs": [
    {
     "name": "stdout",
     "output_type": "stream",
     "text": [
      "Computing entropy stats\n",
      "5.0% done\n",
      "100.0% done\n",
      "Computing entropy stats\n",
      "5.0% done\n",
      "100.0% done\n"
     ]
    }
   ],
   "source": [
    "uniform_attn_entropy = 0  # entropy of uniform attention\n",
    "entropies = np.zeros((12, 12))  # entropy of attention heads\n",
    "entropies_cls = np.zeros((12, 12))  # entropy of attention from [CLS]\n",
    "\n",
    "entropies_attention_dicts = {\n",
    "    k[0]: {'uniform_attn_entropy' : 0,\n",
    "           'entropies': entropies.copy(),\n",
    "           'entropies_cls': entropies_cls.copy()} for k in keys if k[0] != \"dialogpt\"\n",
    "}\n",
    "for k in entropies_attention_dicts:\n",
    "  data = attention_dicts[k]\n",
    "  n_docs = len(attention_dicts[k])\n",
    "\n",
    "  print(\"Computing entropy stats\")\n",
    "  for tokens, attns in data_iterator(data):\n",
    "    attns = 0.9999 * attns + (0.0001 / attns.shape[-1])  # smooth to avoid NaNs\n",
    "    entropies_attention_dicts[k]['uniform_attn_entropy'] -= np.log(1.0 / attns.shape[-1])\n",
    "    entropies_attention_dicts[k]['entropies'] -= (attns * np.log(attns)).sum(-1).mean(-1)\n",
    "    entropies_attention_dicts[k]['entropies_cls'] -= (attns * np.log(attns))[:, :, 0].sum(-1)\n",
    "\n",
    "  entropies_attention_dicts[k]['uniform_attn_entropy'] /= n_docs\n",
    "  entropies_attention_dicts[k]['entropies'] /= n_docs\n",
    "  entropies_attention_dicts[k]['entropies_cls'] /= n_docs"
   ]
  },
  {
   "cell_type": "markdown",
   "metadata": {},
   "source": [
    "## Visualising attention"
   ]
  },
  {
   "cell_type": "code",
   "execution_count": 80,
   "metadata": {},
   "outputs": [],
   "source": [
    "from bertviz import model_view, head_view, neuron_view"
   ]
  },
  {
   "cell_type": "code",
   "execution_count": 82,
   "metadata": {},
   "outputs": [],
   "source": [
    "import collections\n",
    "import matplotlib\n",
    "import seaborn as sns\n",
    "import sklearn\n",
    "\n",
    "from matplotlib import pyplot as plt\n",
    "from matplotlib import cm\n",
    "from sklearn import manifold\n",
    "\n",
    "sns.set_style(\"darkgrid\")"
   ]
  },
  {
   "cell_type": "markdown",
   "metadata": {},
   "source": [
    "### Plotting utilities"
   ]
  },
  {
   "cell_type": "code",
   "execution_count": 83,
   "metadata": {},
   "outputs": [],
   "source": [
    "# Pretty colors\n",
    "BLACK = \"k\"\n",
    "GREEN = \"#59d98e\"\n",
    "SEA = \"#159d82\"\n",
    "BLUE = \"#3498db\"\n",
    "PURPLE = \"#9b59b6\"\n",
    "GREY = \"#95a5a6\"\n",
    "RED = \"#e74c3c\"\n",
    "ORANGE = \"#f39c12\"\n",
    "\n",
    "def get_data_points(head_data):\n",
    "  xs, ys, avgs = [], [], []\n",
    "  for layer in range(12):\n",
    "    for head in range(12):\n",
    "      ys.append(head_data[layer, head])\n",
    "      xs.append(1 + layer)\n",
    "    avgs.append(np.mean(head_data[layer]))\n",
    "  return xs, ys, avgs"
   ]
  },
  {
   "cell_type": "markdown",
   "metadata": {},
   "source": [
    "### Examples of Attention Head Behavior (Figure 1)"
   ]
  },
  {
   "cell_type": "code",
   "execution_count": 84,
   "metadata": {},
   "outputs": [],
   "source": [
    "data = attention_dicts['bert_conversational']"
   ]
  },
  {
   "cell_type": "code",
   "execution_count": 85,
   "metadata": {},
   "outputs": [
    {
     "data": {
      "image/png": "[encoded data removed]",
      "text/plain": [
       "<Figure size 864x288 with 1 Axes>"
      ]
     },
     "metadata": {
      "needs_background": "light"
     },
     "output_type": "display_data"
    }
   ],
   "source": [
    "width = 3\n",
    "example_sep = 3\n",
    "word_height = 1\n",
    "pad = 0.1\n",
    "\n",
    "\n",
    "def plot_attn(example, heads):\n",
    "  \"\"\"Plots attention maps for the given example and attention heads.\"\"\"\n",
    "\n",
    "  for ei, (layer, head) in enumerate(heads):\n",
    "    yoffset = 1\n",
    "    xoffset = ei * width * example_sep\n",
    "\n",
    "    attn = example[\"attns\"][layer][head][-15:, -15:]\n",
    "    attn = np.array(attn)\n",
    "    attn /= attn.sum(axis=-1, keepdims=True)\n",
    "    words = example[\"tokens\"][-15:]\n",
    "    words[0] = \"...\"\n",
    "    n_words = len(words)\n",
    "\n",
    "    for position, word in enumerate(words):\n",
    "      plt.text(xoffset + 0, yoffset - position * word_height, word,\n",
    "               ha=\"right\", va=\"center\")\n",
    "      plt.text(xoffset + width, yoffset - position * word_height, word,\n",
    "               ha=\"left\", va=\"center\")\n",
    "    for i in range(1, n_words):\n",
    "      for j in range(1, n_words):\n",
    "        plt.plot([xoffset + pad, xoffset + width - pad],\n",
    "                 [yoffset - word_height * i, yoffset - word_height * j],\n",
    "                 color=\"blue\", linewidth=1, alpha=attn[i, j])\n",
    "\n",
    "plt.figure(figsize=(12, 4))\n",
    "plt.axis(\"off\")\n",
    "plot_attn(data[0], [(0, 0), (2, 0), (7, 6), (10, 5)])\n",
    "plt.show()"
   ]
  },
  {
   "cell_type": "markdown",
   "metadata": {},
   "source": [
    "### Avg. Attention Plots (Figure 2, Sections 3.1 and 3.2)"
   ]
  },
  {
   "cell_type": "code",
   "execution_count": 86,
   "metadata": {},
   "outputs": [
    {
     "data": {
      "image/png": "[encoded data removed]",
      "text/plain": [
       "<Figure size 360x720 with 3 Axes>"
      ]
     },
     "metadata": {
      "needs_background": "light"
     },
     "output_type": "display_data"
    }
   ],
   "source": [
    "def add_line(key, ax, color, label, plot_avgs=True):\n",
    "  xs, ys, avgs = get_data_points(avg_attns[key])\n",
    "  ax.scatter(xs, ys, s=12, label=label, color=color)\n",
    "  if plot_avgs:\n",
    "    ax.plot(1 + np.arange(len(avgs)), avgs, color=color)\n",
    "  ax.legend(loc=\"best\")\n",
    "  ax.set_xlabel(\"Layer\")\n",
    "  ax.set_ylabel(\"Avg. Attention\")\n",
    "\n",
    "\n",
    "plt.figure(figsize=(5, 10))\n",
    "ax = plt.subplot(3, 1, 1)\n",
    "for key, color, label in [\n",
    "    (\"cls\", RED, \"[CLS]\"),\n",
    "    (\"sep\", BLUE, \"[SEP]\"),\n",
    "    (\"punct\", PURPLE, \". or ,\"),\n",
    "]:\n",
    "  add_line(key, ax, color, label)\n",
    "\n",
    "ax = plt.subplot(3, 1, 2)\n",
    "for key, color, label in [\n",
    "    (\"rest_sep\", BLUE, \"other -> [SEP]\"),\n",
    "    (\"sep_sep\", GREEN, \"[SEP] -> [SEP]\"),\n",
    "]:\n",
    "  add_line(key, ax, color, label)\n",
    "\n",
    "ax = plt.subplot(3, 1, 3)\n",
    "for key, color, label in [\n",
    "    (\"left\", RED, \"next token\"),\n",
    "    (\"right\", BLUE, \"prev token\"),\n",
    "    (\"self\", PURPLE, \"current token\"),\n",
    "]:\n",
    "  add_line(key, ax, color, label, plot_avgs=False)\n",
    "\n",
    "plt.show()"
   ]
  },
  {
   "cell_type": "markdown",
   "metadata": {},
   "source": [
    "### Entropy Plots (Section 3.3, Figure 4)"
   ]
  },
  {
   "cell_type": "code",
   "execution_count": 87,
   "metadata": {},
   "outputs": [
    {
     "data": {
      "image/png": "[encoded data removed]",
      "text/plain": [
       "<Figure size 360x360 with 2 Axes>"
      ]
     },
     "metadata": {
      "needs_background": "light"
     },
     "output_type": "display_data"
    }
   ],
   "source": [
    "xs, es, avg_es = get_data_points(entropies)\n",
    "xs, es_cls, avg_es_cls = get_data_points(entropies_cls)\n",
    "\n",
    "plt.figure(figsize=(5, 5))\n",
    "\n",
    "\n",
    "def plot_entropies(ax, data, avgs, label, c):\n",
    "  ax.scatter(xs, data, c=c, s=5, label=label)\n",
    "  ax.plot(1 + np.arange(12), avgs, c=c)\n",
    "  ax.plot([1, 12], [uniform_attn_entropy, uniform_attn_entropy],\n",
    "          c=\"k\", linestyle=\"--\")\n",
    "  ax.text(7, uniform_attn_entropy - 0.45, \"uniform attention\",\n",
    "          ha=\"center\")\n",
    "  ax.legend(loc=\"lower right\")\n",
    "  ax.set_ylabel(\"Avg. Attention Entropy (nats)\")\n",
    "  ax.set_xlabel(\"Layer\")\n",
    "\n",
    "plot_entropies(plt.subplot(2, 1, 1), es, avg_es, \"BERT Heads\",\n",
    "               c=BLUE)\n",
    "plot_entropies(plt.subplot(2, 1, 2), es_cls, avg_es_cls,\n",
    "               \"BERT Heads from [CLS]\", c=RED)\n",
    "\n",
    "plt.show()"
   ]
  },
  {
   "cell_type": "code",
   "execution_count": 88,
   "metadata": {},
   "outputs": [
    {
     "name": "stdout",
     "output_type": "stream",
     "text": [
      "huggingface/tokenizers: The current process just got forked, after parallelism has already been used. Disabling parallelism to avoid deadlocks...\n",
      "To disable this warning, you can either:\n",
      "\t- Avoid using `tokenizers` before the fork if possible\n",
      "\t- Explicitly set the environment variable TOKENIZERS_PARALLELISM=(true | false)\n",
      "huggingface/tokenizers: The current process just got forked, after parallelism has already been used. Disabling parallelism to avoid deadlocks...\n",
      "To disable this warning, you can either:\n",
      "\t- Avoid using `tokenizers` before the fork if possible\n",
      "\t- Explicitly set the environment variable TOKENIZERS_PARALLELISM=(true | false)\n",
      "huggingface/tokenizers: The current process just got forked, after parallelism has already been used. Disabling parallelism to avoid deadlocks...\n",
      "To disable this warning, you can either:\n",
      "\t- Avoid using `tokenizers` before the fork if possible\n",
      "\t- Explicitly set the environment variable TOKENIZERS_PARALLELISM=(true | false)\n",
      "huggingface/tokenizers: The current process just got forked, after parallelism has already been used. Disabling parallelism to avoid deadlocks...\n",
      "To disable this warning, you can either:\n",
      "\t- Avoid using `tokenizers` before the fork if possible\n",
      "\t- Explicitly set the environment variable TOKENIZERS_PARALLELISM=(true | false)\n",
      "huggingface/tokenizers: The current process just got forked, after parallelism has already been used. Disabling parallelism to avoid deadlocks...\n",
      "To disable this warning, you can either:\n",
      "\t- Avoid using `tokenizers` before the fork if possible\n",
      "\t- Explicitly set the environment variable TOKENIZERS_PARALLELISM=(true | false)\n"
     ]
    },
    {
     "data": {
      "image/png": "[encoded data removed]",
      "text/plain": [
       "<Figure size 345.6x691.2 with 2 Axes>"
      ]
     },
     "metadata": {},
     "output_type": "display_data"
    }
   ],
   "source": [
    "ENTROPY_THRESHOLD = 3.8  # When to say a head \"attends broadly\"\n",
    "POSITION_THRESHOLD = 0.5  # When to say a head \"attends to next/prev\"\n",
    "SPECIAL_TOKEN_THRESHOLD = 0.6  # When to say a heads attends to [CLS]/[SEP]\"\n",
    "# Heads that were found to have linguistic behaviors\n",
    "LINGUISTIC_HEADS = {\n",
    "    (4, 3): \"Coreference\",\n",
    "    (7, 10): \"Determiner\",\n",
    "    (7, 9): \"Direct object\",\n",
    "    (8, 5): \"Object of prep.\",\n",
    "    (3, 9): \"Passive auxiliary\",\n",
    "    (6, 5): \"Possesive\",\n",
    "}\n",
    "\n",
    "# Use multi-dimensional scaling to compute 2-dimensional embeddings that\n",
    "# reflect Jenson-Shannon divergences between attention heads.\n",
    "mds = sklearn.manifold.MDS(metric=True, n_init=5, n_jobs=4, eps=1e-10,\n",
    "                           max_iter=1000, dissimilarity=\"precomputed\")\n",
    "pts = mds.fit_transform(js_divergences)\n",
    "pts = pts.reshape((12, 12, 2))\n",
    "pts_flat = pts.reshape([144, 2])\n",
    "\n",
    "colormap = cm.seismic(np.linspace(0, 1.0, 12))\n",
    "plt.figure(figsize=(4.8, 9.6))\n",
    "plt.title(\"BERT Attention Heads\")\n",
    "\n",
    "for color_by_layer in [False, True]:\n",
    "  ax = plt.subplot(2, 1, int(color_by_layer) + 1)\n",
    "  seen_labels = set()\n",
    "  for layer in range(12):\n",
    "    for head in range(12):\n",
    "      label = \"\"\n",
    "      color = GREY\n",
    "      marker = \"o\"\n",
    "      markersize = 4\n",
    "      x, y = pts[layer, head]\n",
    "\n",
    "      if avg_attns[\"right\"][layer, head] > POSITION_THRESHOLD:\n",
    "        color = RED\n",
    "        marker = \">\"\n",
    "        label = \"attend to next\"\n",
    "        \n",
    "      if avg_attns[\"left\"][layer, head] > POSITION_THRESHOLD:\n",
    "        color = BLUE\n",
    "        label = \"attend to prev.\"\n",
    "        marker = \"<\"\n",
    "\n",
    "      if entropies[layer, head] > ENTROPY_THRESHOLD:\n",
    "        color = ORANGE\n",
    "        label = \"attend broadly\"\n",
    "        marker = \"^\"\n",
    "\n",
    "      if avg_attns[\"cls\"][layer, head] > SPECIAL_TOKEN_THRESHOLD:\n",
    "        color = PURPLE\n",
    "        label = \"attend to [CLS]\"\n",
    "        marker = \"$C$\"\n",
    "        markersize = 5\n",
    "\n",
    "      if avg_attns[\"sep\"][layer, head] > SPECIAL_TOKEN_THRESHOLD:\n",
    "        color = GREEN\n",
    "        marker = \"$S$\"\n",
    "        markersize = 5\n",
    "        label = \"attend to [SEP]\"\n",
    "\n",
    "      if avg_attns[\"punct\"][layer, head] > SPECIAL_TOKEN_THRESHOLD:\n",
    "        color = SEA\n",
    "        marker = \"s\"\n",
    "        markersize = 3.2\n",
    "        label = \"attend to . and ,\"\n",
    "\n",
    "      if color_by_layer:\n",
    "        label = str(layer + 1)\n",
    "        color = colormap[layer]\n",
    "        marker = \"o\"\n",
    "        markersize = 3.8\n",
    "\n",
    "      if not color_by_layer:\n",
    "        if (layer, head) in LINGUISTIC_HEADS:\n",
    "          label = \"\"\n",
    "          color = BLACK\n",
    "          marker = \"x\"\n",
    "          ax.text(x, y, LINGUISTIC_HEADS[(layer, head)], color=color)\n",
    "\n",
    "      if label not in seen_labels:\n",
    "        seen_labels.add(label)\n",
    "      else:\n",
    "        label = \"\"\n",
    "\n",
    "      ax.plot([x], [y], marker=marker, markersize=markersize,\n",
    "              color=color, label=label, linestyle=\"\")\n",
    "\n",
    "  ax.set_xticks([])\n",
    "  ax.set_yticks([])\n",
    "  ax.spines[\"top\"].set_visible(False)\n",
    "  ax.spines[\"right\"].set_visible(False)\n",
    "  ax.spines[\"bottom\"].set_visible(False)\n",
    "  ax.spines[\"left\"].set_visible(False)\n",
    "  ax.set_facecolor((0.96, 0.96, 0.96))\n",
    "  plt.title((\"Colored by Layer\" if color_by_layer else \"Behaviors\"))\n",
    "  handles, labels = ax.get_legend_handles_labels()\n",
    "  ax.legend(handles, labels, loc=\"best\")\n",
    "\n",
    "plt.suptitle(\"Embedded BERT attention heads\", fontsize=14, y=1.05)\n",
    "plt.subplots_adjust(top=1, bottom=0, right=1, left=0,\n",
    "                    hspace=0.1, wspace=0)\n",
    "plt.show()"
   ]
  },
  {
   "cell_type": "code",
   "execution_count": null,
   "metadata": {},
   "outputs": [],
   "source": []
  }
 ],
 "metadata": {
  "interpreter": {
   "hash": "c4296dd8706fac5325e6d01948524d9b7ee219aac805fc0ef4b567dd0caece99"
  },
  "kernelspec": {
   "display_name": "Python 3.9.10 ('base': conda)",
   "language": "python",
   "name": "python3"
  },
  "language_info": {
   "codemirror_mode": {
    "name": "ipython",
    "version": 3
   },
   "file_extension": ".py",
   "mimetype": "text/x-python",
   "name": "python",
   "nbconvert_exporter": "python",
   "pygments_lexer": "ipython3",
   "version": "3.9.10"
  },
  "orig_nbformat": 4
 },
 "nbformat": 4,
 "nbformat_minor": 2
}
